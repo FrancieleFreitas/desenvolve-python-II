{
 "cells": [
  {
   "cell_type": "markdown",
   "metadata": {},
   "source": [
    "## Exercícios\n",
    "\n",
    "> Retirados de [learn-python: sqlalchemy_orm-questions](https://aviadr1.github.io/learn-advanced-python/11_db_access/exercise/sqlalchemy_orm-questions.html).\n",
    "\n",
    "#### Q1.\n",
    "\n",
    "Baixa e extraia o arquivo compactado com o banco de dados [Chinook database](https://www.sqlitetutorial.net/sqlite-sample-database/). Salve o arquivo `chinook.db` na mesma pasta deste script.\n",
    "* Link para baixar: http://www.sqlitetutorial.net/wp-content/uploads/2018/03/chinook.zip\n",
    "\n",
    "<img width=500 src=https://www.sqlitetutorial.net/wp-content/uploads/2015/11/sqlite-sample-database-color.jpg>\n"
   ]
  },
  {
   "cell_type": "markdown",
   "metadata": {},
   "source": [
    "#### Q2.\n",
    "\n",
    "Leia o código e os comentários das células a seguir para entender como acessamos os modelos ORM de um banco já existente."
   ]
  },
  {
   "cell_type": "code",
   "execution_count": null,
   "metadata": {},
   "outputs": [],
   "source": [
    "from sqlalchemy import create_engine, text, MetaData\n",
    "from sqlalchemy.orm import Session\n",
    "\n",
    "engine = create_engine(\"sqlite+pysqlite:///chinook.db\", echo=False)\n",
    "\n",
    "### extrai as classes da base de dados Chinook\n",
    "metadata = MetaData()\n",
    "metadata.reflect(engine)\n",
    "\n",
    "# O metadata tem informações sobre as tabelas\n",
    "# que serão usadas para criar os modelos ORM\n",
    "for table_name, table in metadata.tables.items():\n",
    "    print(table_name)\n",
    "    print(table.columns.keys())\n",
    "    print(table.columns.items())\n",
    "    print('-'*25)\n",
    "\n",
    "### configura o objeto Base mapeando os modelos ORM das tabelas\n",
    "from sqlalchemy.ext.automap import automap_base\n",
    "Base = automap_base(metadata=metadata)\n",
    "Base.prepare()\n",
    "\n",
    "# o objeto Base tem os modelos ORM que podemos usar\n",
    "# para manipular o banco de dados\n",
    "print(Base.classes.items())"
   ]
  },
  {
   "cell_type": "code",
   "execution_count": null,
   "metadata": {},
   "outputs": [],
   "source": [
    "# A seguir um exemplo de query na tabela Albums\n",
    "# usamos o objeto Base para acessar cada modelo ORM.\n",
    "\n",
    "session = Session(engine)\n",
    "res = session.scalars(select(Base.classes.albums))\n",
    "first_album = res.first()\n",
    "print(first_album.AlbumId, first_album.Title)"
   ]
  },
  {
   "cell_type": "markdown",
   "metadata": {},
   "source": [
    "#### Q3. \n",
    "Com base nos códigos anteriores realize as operações solicitadas nas células a seguir:\n"
   ]
  },
  {
   "cell_type": "code",
   "execution_count": 1,
   "metadata": {},
   "outputs": [
    {
     "name": "stdout",
     "output_type": "stream",
     "text": [
      "TrackId: 1, Name: For Those About To Rock (We Salute You), AlbumId: 1\n",
      "TrackId: 2, Name: Balls to the Wall, AlbumId: 2\n",
      "TrackId: 3, Name: Fast As a Shark, AlbumId: 3\n"
     ]
    }
   ],
   "source": [
    "from sqlalchemy import create_engine, text, MetaData, select\n",
    "from sqlalchemy.orm import Session\n",
    "from sqlalchemy.ext.automap import automap_base\n",
    "\n",
    "engine = create_engine(\"sqlite+pysqlite:///chinook.db\", echo=False)\n",
    "metadata = MetaData()\n",
    "metadata.reflect(engine)\n",
    "Base = automap_base(metadata=metadata)\n",
    "Base.prepare()\n",
    "session = Session(engine)\n",
    "\n",
    "# Imprime os três primeiros registros da tabela tracks\n",
    "tracks_table = Base.classes.tracks\n",
    "result = session.scalars(select(tracks_table).limit(3))\n",
    "for track in result:\n",
    "    print(f\"TrackId: {track.TrackId}, Name: {track.Name}, AlbumId: {track.AlbumId}\")"
   ]
  },
  {
   "cell_type": "code",
   "execution_count": 2,
   "metadata": {},
   "outputs": [
    {
     "name": "stdout",
     "output_type": "stream",
     "text": [
      "Faixa: For Those About To Rock (We Salute You) - Álbum: For Those About To Rock We Salute You\n",
      "Faixa: Put The Finger On You - Álbum: For Those About To Rock We Salute You\n",
      "Faixa: Let's Get It Up - Álbum: For Those About To Rock We Salute You\n",
      "Faixa: Inject The Venom - Álbum: For Those About To Rock We Salute You\n",
      "Faixa: Snowballed - Álbum: For Those About To Rock We Salute You\n",
      "Faixa: Evil Walks - Álbum: For Those About To Rock We Salute You\n",
      "Faixa: C.O.D. - Álbum: For Those About To Rock We Salute You\n",
      "Faixa: Breaking The Rules - Álbum: For Those About To Rock We Salute You\n",
      "Faixa: Night Of The Long Knives - Álbum: For Those About To Rock We Salute You\n",
      "Faixa: Spellbound - Álbum: For Those About To Rock We Salute You\n",
      "Faixa: Balls to the Wall - Álbum: Balls to the Wall\n",
      "Faixa: Fast As a Shark - Álbum: Restless and Wild\n",
      "Faixa: Restless and Wild - Álbum: Restless and Wild\n",
      "Faixa: Princess of the Dawn - Álbum: Restless and Wild\n",
      "Faixa: Go Down - Álbum: Let There Be Rock\n",
      "Faixa: Dog Eat Dog - Álbum: Let There Be Rock\n",
      "Faixa: Let There Be Rock - Álbum: Let There Be Rock\n",
      "Faixa: Bad Boy Boogie - Álbum: Let There Be Rock\n",
      "Faixa: Problem Child - Álbum: Let There Be Rock\n",
      "Faixa: Overdose - Álbum: Let There Be Rock\n"
     ]
    }
   ],
   "source": [
    "from sqlalchemy import join\n",
    "\n",
    "# Imprime o nome da faixa e o título do álbum das primeiras 20 faixas na tabela tracks.\n",
    "tracks_table = Base.classes.tracks\n",
    "albums_table = Base.classes.albums\n",
    "\n",
    "result = session.execute(\n",
    "    select(tracks_table.Name, albums_table.Title)\n",
    "    .join(albums_table, tracks_table.AlbumId == albums_table.AlbumId)\n",
    "    .limit(20)\n",
    ")\n",
    "for track_name, album_title in result:\n",
    "    print(f\"Faixa: {track_name} - Álbum: {album_title}\")\n"
   ]
  },
  {
   "cell_type": "code",
   "execution_count": 3,
   "metadata": {},
   "outputs": [
    {
     "name": "stdout",
     "output_type": "stream",
     "text": [
      "Venda: 1, FaixaId: 2, Quantidade: 1\n",
      "Venda: 2, FaixaId: 4, Quantidade: 1\n",
      "Venda: 3, FaixaId: 6, Quantidade: 1\n",
      "Venda: 4, FaixaId: 8, Quantidade: 1\n",
      "Venda: 5, FaixaId: 10, Quantidade: 1\n",
      "Venda: 6, FaixaId: 12, Quantidade: 1\n",
      "Venda: 7, FaixaId: 16, Quantidade: 1\n",
      "Venda: 8, FaixaId: 20, Quantidade: 1\n",
      "Venda: 9, FaixaId: 24, Quantidade: 1\n",
      "Venda: 10, FaixaId: 28, Quantidade: 1\n",
      "-------------------------\n",
      "Nome da Faixa: Balls to the Wall, Quantidade: 1\n",
      "Nome da Faixa: Restless and Wild, Quantidade: 1\n",
      "Nome da Faixa: Put The Finger On You, Quantidade: 1\n",
      "Nome da Faixa: Inject The Venom, Quantidade: 1\n",
      "Nome da Faixa: Evil Walks, Quantidade: 1\n",
      "Nome da Faixa: Breaking The Rules, Quantidade: 1\n",
      "Nome da Faixa: Dog Eat Dog, Quantidade: 1\n",
      "Nome da Faixa: Overdose, Quantidade: 1\n",
      "Nome da Faixa: Love In An Elevator, Quantidade: 1\n",
      "Nome da Faixa: Janie's Got A Gun, Quantidade: 1\n"
     ]
    }
   ],
   "source": [
    "# Imprime as 10 primeiras vendas de faixas da tabela invoice_items\n",
    "invoice_items_table = Base.classes.invoice_items\n",
    "result_sales = session.scalars(select(invoice_items_table).limit(10))\n",
    "for item in result_sales:\n",
    "    print(f\"Venda: {item.InvoiceLineId}, FaixaId: {item.TrackId}, Quantidade: {item.Quantity}\")\n",
    "\n",
    "print(\"-\" * 25)\n",
    "\n",
    "# Para essas 10 primeiras vendas, imprima os nomes das faixas vendidas e a quantidade vendida.\n",
    "tracks_table = Base.classes.tracks\n",
    "result_sales_with_names = session.execute(\n",
    "    select(tracks_table.Name, invoice_items_table.Quantity)\n",
    "    .join(invoice_items_table, invoice_items_table.TrackId == tracks_table.TrackId)\n",
    "    .limit(10)\n",
    ")\n",
    "for track_name, quantity in result_sales_with_names:\n",
    "    print(f\"Nome da Faixa: {track_name}, Quantidade: {quantity}\")\n"
   ]
  },
  {
   "cell_type": "code",
   "execution_count": 4,
   "metadata": {},
   "outputs": [
    {
     "name": "stdout",
     "output_type": "stream",
     "text": [
      "Faixa: The Trooper, Total de vendas: 5\n",
      "Faixa: Untitled, Total de vendas: 4\n",
      "Faixa: The Number Of The Beast, Total de vendas: 4\n",
      "Faixa: Sure Know Something, Total de vendas: 4\n",
      "Faixa: Hallowed Be Thy Name, Total de vendas: 4\n",
      "Faixa: Eruption, Total de vendas: 4\n",
      "Faixa: Where Eagles Dare, Total de vendas: 3\n",
      "Faixa: Welcome Home (Sanitarium), Total de vendas: 3\n",
      "Faixa: Sweetest Thing, Total de vendas: 3\n",
      "Faixa: Surrender, Total de vendas: 3\n"
     ]
    }
   ],
   "source": [
    "from sqlalchemy import func\n",
    "\n",
    "# Imprima os nomes das 10 faixas mais vendidas e quantas vezes foram vendidas.\n",
    "tracks_table = Base.classes.tracks\n",
    "invoice_items_table = Base.classes.invoice_items\n",
    "\n",
    "result = session.execute(\n",
    "    select(tracks_table.Name, func.sum(invoice_items_table.Quantity).label('total_sales'))\n",
    "    .join(invoice_items_table, invoice_items_table.TrackId == tracks_table.TrackId)\n",
    "    .group_by(tracks_table.Name)\n",
    "    .order_by(func.sum(invoice_items_table.Quantity).desc())\n",
    "    .limit(10)\n",
    ")\n",
    "for track_name, total_sales in result:\n",
    "    print(f\"Faixa: {track_name}, Total de vendas: {total_sales}\")\n"
   ]
  },
  {
   "cell_type": "code",
   "execution_count": 5,
   "metadata": {},
   "outputs": [
    {
     "name": "stdout",
     "output_type": "stream",
     "text": [
      "Artista: Iron Maiden, Total de vendas: 140\n",
      "Artista: U2, Total de vendas: 107\n",
      "Artista: Metallica, Total de vendas: 91\n",
      "Artista: Led Zeppelin, Total de vendas: 87\n",
      "Artista: Os Paralamas Do Sucesso, Total de vendas: 45\n",
      "Artista: Deep Purple, Total de vendas: 44\n",
      "Artista: Faith No More, Total de vendas: 42\n",
      "Artista: Lost, Total de vendas: 41\n",
      "Artista: Eric Clapton, Total de vendas: 40\n",
      "Artista: R.E.M., Total de vendas: 39\n"
     ]
    }
   ],
   "source": [
    "# Quem são os 10 artistas que mais venderam?\n",
    "invoice_items_table = Base.classes.invoice_items\n",
    "tracks_table = Base.classes.tracks\n",
    "albums_table = Base.classes.albums\n",
    "artists_table = Base.classes.artists\n",
    "\n",
    "result = session.execute(\n",
    "    select(artists_table.Name, func.sum(invoice_items_table.Quantity).label('total_sales'))\n",
    "    .join(tracks_table, tracks_table.TrackId == invoice_items_table.TrackId)\n",
    "    .join(albums_table, albums_table.AlbumId == tracks_table.AlbumId)\n",
    "    .join(artists_table, artists_table.ArtistId == albums_table.ArtistId)\n",
    "    .group_by(artists_table.Name)\n",
    "    .order_by(func.sum(invoice_items_table.Quantity).desc())\n",
    "    .limit(10)\n",
    ")\n",
    "\n",
    "for artist_name, total_sales in result:\n",
    "    print(f\"Artista: {artist_name}, Total de vendas: {total_sales}\")\n",
    "\n",
    "session.close()\n"
   ]
  }
 ],
 "metadata": {
  "kernelspec": {
   "display_name": "Python 3",
   "language": "python",
   "name": "python3"
  },
  "language_info": {
   "codemirror_mode": {
    "name": "ipython",
    "version": 3
   },
   "file_extension": ".py",
   "mimetype": "text/x-python",
   "name": "python",
   "nbconvert_exporter": "python",
   "pygments_lexer": "ipython3",
   "version": "3.12.10"
  }
 },
 "nbformat": 4,
 "nbformat_minor": 2
}
