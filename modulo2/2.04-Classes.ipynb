{
 "cells": [
  {
   "cell_type": "markdown",
   "metadata": {},
   "source": [
    "> Projeto Desenvolve <br>\n",
    "Programação Intermediária com Python <br>\n",
    "Profa. Camila Laranjeira (mila@projetodesenvolve.com.br) <br>\n",
    "\n",
    "# 2.4 - Classes, atributos e métodos"
   ]
  },
  {
   "cell_type": "markdown",
   "metadata": {},
   "source": [
    "## Exercícios\n",
    "\n",
    "#### Q1.\n",
    "Vamos criar aos pouquinhos uma classe Evento que registra eventos de um calendário. Pra começar, nessa questão você deve:\n",
    "\n",
    "* Criar uma classe chamada Evento\n",
    "* Adicionar um atributo de classe `total_eventos` que será usado para contar o número total de eventos (instâncias de classe) criadas.\n",
    "* Implemente o método construtor que deve receber os parâmetros `titulo` (`string`), `data_hora` (`datetime`), `descrição` (`string`). Crie e inicialize um atributo de instância para cada um dos parâmetros citados.\n",
    "* O construtor também deve inicializar um atributo de instância `is_concluido = False`. Esse atributo será utilizado mais à frente. \n",
    "* No construtor você também deve incrementar o atributo de classe `total_eventos` em 1 a cada nova instância criada.\n",
    "\n",
    "Teste o seu código criando duas diferentes instâncias de evento (preencha os atributos como quiser) e imprimindo todos os seus atributos (de classe e de instância).\n",
    "\n",
    "> Consulte [este tutorial biblioteca `datetime`](https://www.w3schools.com/python/python_datetime.asp) caso não esteja familiarizado."
   ]
  },
  {
   "cell_type": "code",
   "execution_count": null,
   "metadata": {},
   "outputs": [
    {
     "name": "stdout",
     "output_type": "stream",
     "text": [
      "Título: Reunião de Equipe\n",
      "Data: 10/09/2025\n",
      "Descrição: Reunião mensal do time de desenvolvimento.\n",
      "Total de eventos criados até agora: 2\n",
      "----------------------------------------\n",
      "Título: Entrega de Projeto\n",
      "Data: 20/09/2025\n",
      "Descrição: Entrega da versão final para o cliente.\n",
      "Total de eventos criados até agora: 2\n",
      "----------------------------------------\n"
     ]
    }
   ],
   "source": [
    "class Evento:\n",
    "    # Atributo de classe\n",
    "    total_eventos = 0  \n",
    "\n",
    "    def __init__(self, titulo, data, descricao):\n",
    "        # Atributos de instância\n",
    "        self.titulo = titulo\n",
    "        self.data = data\n",
    "        self.descricao = descricao\n",
    "        \n",
    "        # Cada vez que criamos um evento, incrementamos o contador da classe\n",
    "        Evento.total_eventos += 1\n",
    "\n",
    "    def exibir_evento(self):\n",
    "        print(f\"Título: {self.titulo}\")\n",
    "        print(f\"Data: {self.data}\")\n",
    "        print(f\"Descrição: {self.descricao}\")\n",
    "        print(f\"Total de eventos criados até agora: {Evento.total_eventos}\")\n",
    "        print(\"-\" * 40)\n",
    "\n",
    "\n",
    "# Testando com dois eventos\n",
    "evento1 = Evento(\"Reunião de Equipe\", \"10/09/2025\", \"Reunião mensal do time de desenvolvimento.\")\n",
    "evento2 = Evento(\"Entrega de Projeto\", \"20/09/2025\", \"Entrega da versão final para o cliente.\")\n",
    "\n",
    "# Exibindo os eventos\n",
    "evento1.exibir_evento()\n",
    "evento2.exibir_evento()\n"
   ]
  },
  {
   "cell_type": "markdown",
   "metadata": {},
   "source": [
    "#### Q2.\n",
    "Agora vamos adicionar métodos à nossa classe. Lembre dos diferentes decoradores que aprendemos. Você deve redefinir a classe com os seguintes métodos:\n",
    "* Um método `isConcluido()` que avalia se a `data_hora` do evento é menor que `datetime.now()` (a data e hora atual). Em caso positivo, atualiza o atributo de instância `is_concluido` para o valor `True`. \n",
    "* Um método de classe `num_eventos()` que retorna o valor do atributo de classe `total_eventos`.\n",
    "* Um método estático `valida_evento(nome, data_hora, descricao)` que recebe os atributos de um evento e testa os tipos de cada variável, retornando `True` caso todos estejam corretos e `False` caso contrário. Para o teste, use a função nativa do Python [`isinstance`](https://www.w3schools.com/python/ref_func_isinstance.asp).\n",
    "\n",
    "Para testar sua classe atualizada:\n",
    "* Crie uma instância de Evento com valor passado e chame o método `isConcluido()` para a instância criada. Em seguida imprima o atributo `is_concluido`. \n",
    "* Invoque o método de classe `num_eventos()` a partir da classe Evento (ou seja, sem criar nenhuma instância).\n",
    "* Chame o método estático `valida_evento()` a partir da classe Evento. Experimente passar valores corretos e incorretos. \n"
   ]
  },
  {
   "cell_type": "code",
   "execution_count": 2,
   "metadata": {},
   "outputs": [
    {
     "name": "stdout",
     "output_type": "stream",
     "text": [
      "Evento 1 concluído? True\n",
      "Evento 2 concluído? False\n",
      "Número total de eventos criados: 2\n",
      "Validação correta? True\n",
      "Validação incorreta? False\n",
      "Título: Reunião de Equipe\n",
      "Data: 2025-09-01 14:00:00\n",
      "Descrição: Reunião mensal do time.\n",
      "Concluído: True\n",
      "Total de eventos criados: 2\n",
      "----------------------------------------\n",
      "Título: Entrega de Projeto\n",
      "Data: 2025-09-20 10:00:00\n",
      "Descrição: Entrega da versão final.\n",
      "Concluído: False\n",
      "Total de eventos criados: 2\n",
      "----------------------------------------\n"
     ]
    }
   ],
   "source": [
    "from datetime import datetime\n",
    "\n",
    "class Evento:\n",
    "    total_eventos = 0 # atributo de classe\n",
    "\n",
    "    def __init__(self, titulo, data, descricao):\n",
    "        self.titulo = titulo\n",
    "        self.data = datetime.strptime(data, \"%d/%m/%Y %H:%M\") # salva como datetime\n",
    "        self.descricao = descricao\n",
    "        self.is_concluido = False # inicialmente não concluído\n",
    "\n",
    "        Evento.total_eventos += 1\n",
    "\n",
    "    # Método de instância\n",
    "    def verificar_concluido(self):\n",
    "        if self.data < datetime.now():\n",
    "            self.is_concluido = True\n",
    "        return self.is_concluido\n",
    "\n",
    "    # Método de classe\n",
    "    @classmethod\n",
    "    def num_eventos(cls):\n",
    "        return cls.total_eventos\n",
    "\n",
    "    # Método estático\n",
    "    @staticmethod\n",
    "    def valida_evento(titulo, data, descricao):\n",
    "        return isinstance(titulo, str) and isinstance(data, str) and isinstance(descricao, str)\n",
    "\n",
    "    def exibir_evento(self):\n",
    "        print(f\"Título: {self.titulo}\")\n",
    "        print(f\"Data: {self.data}\")\n",
    "        print(f\"Descrição: {self.descricao}\")\n",
    "        print(f\"Concluído: {self.is_concluido}\")\n",
    "        print(f\"Total de eventos criados: {Evento.total_eventos}\")\n",
    "        print(\"-\" * 40)\n",
    "\n",
    "\n",
    "# --------- Testando a classe ---------\n",
    "\n",
    "# Criando eventos\n",
    "evento1 = Evento(\"Reunião de Equipe\", \"01/09/2025 14:00\", \"Reunião mensal do time.\")\n",
    "evento2 = Evento(\"Entrega de Projeto\", \"20/09/2025 10:00\", \"Entrega da versão final.\")\n",
    "\n",
    "# Testando método de instância\n",
    "print(\"Evento 1 concluído?\", evento1.verificar_concluido())\n",
    "print(\"Evento 2 concluído?\", evento2.verificar_concluido())\n",
    "\n",
    "# Testando método de classe\n",
    "print(\"Número total de eventos criados:\", Evento.num_eventos())\n",
    "\n",
    "# Testando método estático\n",
    "print(\"Validação correta?\", Evento.valida_evento(\"Título\", \"10/09/2025 09:00\", \"Descrição\"))\n",
    "print(\"Validação incorreta?\", Evento.valida_evento(123, 456, True))\n",
    "\n",
    "# Exibindo os eventos\n",
    "evento1.exibir_evento()\n",
    "evento2.exibir_evento()\n"
   ]
  },
  {
   "cell_type": "markdown",
   "metadata": {
    "vscode": {
     "languageId": "plaintext"
    }
   },
   "source": [
    "#### Q3.\n",
    "\n",
    "Vamos incluir métodos mágicos! ✨🪄🔮\n",
    "\n",
    "Redefina a classe incluindo\":\n",
    "* Método `__str__` que imprime os atributos do evento na forma `\"Evento: titulo, Data: data_hora, Descrição: descricao, Concluido: is_concluido\"`.\n",
    "* Implemente os métodos de comparação `__eq__`, `__ne__`, `__lt__`, `__le__`, `__gt__` e `__ge__` para comparar eventos baseados no atributo `data_hora`. Esses métodos devem comparar duas instâncias de Evento e retornar os resultados apropriados (`True` ou `False`).\n",
    "\n",
    "Para testar, crie duas instâncias de Evento com datas diferentes. Imprima as instâncias com a função `print()` e apresente o resultado das comparações entre eventos (`==`, `!=`, `<`, `<=`, `>`, `>=`)."
   ]
  },
  {
   "cell_type": "code",
   "execution_count": 3,
   "metadata": {},
   "outputs": [
    {
     "name": "stdout",
     "output_type": "stream",
     "text": [
      "Evento: Reunião | Data: 2025-09-10 14:00:00 | Descrição: Reunião com o time | Concluído: False\n",
      "Evento: Entrega | Data: 2025-09-20 10:00:00 | Descrição: Entrega do projeto | Concluído: False\n",
      "evento1 == evento2 ? False\n",
      "evento1 != evento2 ? True\n",
      "evento1 < evento2 ? True\n",
      "evento1 <= evento2 ? True\n",
      "evento1 > evento2 ? False\n",
      "evento1 >= evento2 ? False\n"
     ]
    }
   ],
   "source": [
    "from datetime import datetime\n",
    "\n",
    "class Evento:\n",
    "    def __init__(self, titulo, data, descricao):\n",
    "        self.titulo = titulo\n",
    "        self.data = datetime.strptime(data, \"%d/%m/%Y %H:%M\")\n",
    "        self.descricao = descricao\n",
    "        self.is_concluido = False\n",
    "\n",
    "    # Método mágico para exibir bonito\n",
    "    def __str__(self):\n",
    "        return f\"Evento: {self.titulo} | Data: {self.data} | Descrição: {self.descricao} | Concluído: {self.is_concluido}\"\n",
    "\n",
    "    # Métodos de comparação usando a data\n",
    "    def __eq__(self, other):  # ==\n",
    "        return self.data == other.data\n",
    "\n",
    "    def __ne__(self, other):  # !=\n",
    "        return self.data != other.data\n",
    "\n",
    "    def __lt__(self, other):  # <\n",
    "        return self.data < other.data\n",
    "\n",
    "    def __le__(self, other):  # <=\n",
    "        return self.data <= other.data\n",
    "\n",
    "    def __gt__(self, other):  # >\n",
    "        return self.data > other.data\n",
    "\n",
    "    def __ge__(self, other):  # >=\n",
    "        return self.data >= other.data\n",
    "\n",
    "\n",
    "# -------- Testando --------\n",
    "evento1 = Evento(\"Reunião\", \"10/09/2025 14:00\", \"Reunião com o time\")\n",
    "evento2 = Evento(\"Entrega\", \"20/09/2025 10:00\", \"Entrega do projeto\")\n",
    "\n",
    "print(evento1)\n",
    "print(evento2)\n",
    "\n",
    "print(\"evento1 == evento2 ?\", evento1 == evento2)\n",
    "print(\"evento1 != evento2 ?\", evento1 != evento2)\n",
    "print(\"evento1 < evento2 ?\", evento1 < evento2)\n",
    "print(\"evento1 <= evento2 ?\", evento1 <= evento2)\n",
    "print(\"evento1 > evento2 ?\", evento1 > evento2)\n",
    "print(\"evento1 >= evento2 ?\", evento1 >= evento2)\n"
   ]
  }
 ],
 "metadata": {
  "kernelspec": {
   "display_name": "Python 3",
   "language": "python",
   "name": "python3"
  },
  "language_info": {
   "codemirror_mode": {
    "name": "ipython",
    "version": 3
   },
   "file_extension": ".py",
   "mimetype": "text/x-python",
   "name": "python",
   "nbconvert_exporter": "python",
   "pygments_lexer": "ipython3",
   "version": "3.12.10"
  }
 },
 "nbformat": 4,
 "nbformat_minor": 2
}
